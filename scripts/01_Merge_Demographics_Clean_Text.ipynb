{
 "cells": [
  {
   "cell_type": "code",
   "execution_count": 8,
   "id": "3b01e99e",
   "metadata": {},
   "outputs": [
    {
     "name": "stdout",
     "output_type": "stream",
     "text": [
      "✅ Transcripts loaded and saved!\n",
      "CSV: cookie_transcripts_all.csv\n"
     ]
    }
   ],
   "source": [
    "import os\n",
    "import re\n",
    "import pandas as pd\n",
    "\n",
    "# === Set paths ===\n",
    "transcript_folder = \"/Users/cynthianyongesa/Desktop/Desktop - Cynthia's Macbook Pro/DATA/4_PA_LAB_PY/1_SPEECH_COOKIE/cookie_transcripts_txt\"\n",
    "demographics_path = \"/Users/cynthianyongesa/Desktop/Desktop - Cynthia's Macbook Pro/DATA/4_PA_LAB_PY/1_SPEECH_COOKIE/cookie_demographics.csv\"\n",
    "raw_output_path = \"cookie_transcripts_all.csv\"\n",
    "merged_output_path = \"cookie_transcripts_with_demographics.csv\"\n",
    "clean_output_path = os.path.join(transcript_folder, \"cookie_transcripts_clean.csv\")\n",
    "\n",
    "# === Load transcripts into a DataFrame ===\n",
    "def load_transcripts(folder_path):\n",
    "    data = []\n",
    "    for fname in os.listdir(folder_path):\n",
    "        if fname.endswith(\".txt\"):\n",
    "            pid = fname.replace(\".txt\", \"\")\n",
    "            with open(os.path.join(folder_path, fname), \"r\") as f:\n",
    "                text = f.read()\n",
    "            data.append({\"participant_id\": pid, \"transcript\": text})\n",
    "    return pd.DataFrame(data)\n",
    "\n",
    "df = load_transcripts(transcript_folder)\n",
    "df.to_csv(raw_output_path, index=False)\n",
    "print(\"✅ Transcripts loaded and saved!\")\n",
    "print(f\"📄 Raw CSV: {raw_output_path}\")\n",
    "\n",
    "# === Merge with demographics data ===\n",
    "demographics_df = pd.read_csv(demographics_path)\n",
    "merged_df = df.merge(demographics_df, on=\"participant_id\", how=\"left\")\n",
    "\n",
    "# Report missing demographics\n",
    "missing_data = merged_df[merged_df.isnull().any(axis=1)]\n",
    "if not missing_data.empty:\n",
    "    print(\"⚠️ Missing demographics for:\")\n",
    "    for pid in missing_data[\"participant_id\"]:\n",
    "        print(f\" - {pid}\")\n",
    "else:\n",
    "    print(\"✅ All participants matched with demographics data.\")\n",
    "\n",
    "merged_df.to_csv(merged_output_path, index=False)\n",
    "print(f\"📁 Merged CSV saved to: {merged_output_path}\")\n",
    "\n",
    "# === Text cleaning function ===\n",
    "def clean_text(text):\n",
    "    text = text.lower()                      # Convert to lowercase\n",
    "    text = re.sub(r\"\\s+\", \" \", text)         # Normalize whitespace\n",
    "    text = re.sub(r\"[^\\w\\s]\", \"\", text)      # Remove punctuation\n",
    "    return text.strip()\n",
    "\n",
    "# Apply cleaning\n",
    "merged_df[\"transcript_clean\"] = merged_df[\"transcript\"].apply(clean_text)\n",
    "merged_df.to_csv(clean_output_path, index=False)\n",
    "\n",
    "print(\"🧼 Cleaned transcripts saved.\")\n",
    "print(f\"📁 Cleaned CSV: {clean_output_path}\")"
   ]
  }
 ],
 "metadata": {
  "kernelspec": {
   "display_name": "Python 3 (ipykernel)",
   "language": "python",
   "name": "python3"
  },
  "language_info": {
   "codemirror_mode": {
    "name": "ipython",
    "version": 3
   },
   "file_extension": ".py",
   "mimetype": "text/x-python",
   "name": "python",
   "nbconvert_exporter": "python",
   "pygments_lexer": "ipython3",
   "version": "3.10.9"
  }
 },
 "nbformat": 4,
 "nbformat_minor": 5
}
